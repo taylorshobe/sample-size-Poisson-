{
 "cells": [
  {
   "cell_type": "code",
   "execution_count": null,
   "metadata": {},
   "outputs": [],
   "source": [
    "import matplotlib.pyplot as plt\n",
    "import pandas as pd\n",
    "\n",
    "# Read in the conversation topic data and frequency counts\n",
    "df = pd.read_csv('data.csv')\n",
    "\n",
    "# Create a histogram with 32 bins\n",
    "num_bins = 32\n",
    "plt.hist(df['frequency_count'], bins=num_bins)\n",
    "\n",
    "# Add labels and a title\n",
    "plt.xlabel('Frequency Count')\n",
    "plt.ylabel('Number of Topics')\n",
    "plt.title('Histogram of Frequency Counts')\n",
    "\n",
    "# Show the histogram\n",
    "plt.show()"
   ]
  },
  {
   "cell_type": "code",
   "execution_count": null,
   "metadata": {},
   "outputs": [],
   "source": [
    "import pandas as pd\n",
    "import numpy as np\n",
    "from scipy.stats import norm\n",
    "\n",
    "# specify the confidence level and margin of error\n",
    "confidence_level = 0.95\n",
    "margin_of_error = 0.05\n",
    "\n",
    "# load the data into a pandas dataframe\n",
    "df = pd.read_csv('data.csv')\n",
    "\n",
    "# calculate the sample standard deviation\n",
    "sigma = np.std(df['frequency count'], ddof=1)\n",
    "\n",
    "# calculate the minimum sample size\n",
    "z_score = norm.ppf(1 - ((1 - confidence_level) / 2))\n",
    "n = (z_score ** 2 * sigma ** 2) / margin_of_error ** 2\n",
    "\n",
    "print('Sample size:', round(n))"
   ]
  },
  {
   "cell_type": "code",
   "execution_count": null,
   "metadata": {},
   "outputs": [],
   "source": [
    "import numpy as np\n",
    "import pandas as pd\n",
    "from scipy.stats import chi2_contingency\n",
    "\n",
    "# Create a contingency table from your data\n",
    "contingency_table = pd.crosstab(data[\"column1\"], data[\"column2\"])\n",
    "\n",
    "# Calculate the chi-squared statistic, p-value, and degrees of freedom\n",
    "chi2, p, dof, expected = chi2_contingency(contingency_table)\n",
    "\n",
    "# Specify the significance level\n",
    "alpha = 0.05\n",
    "\n",
    "# Determine if the p-value is less than the significance level\n",
    "if p < alpha:\n",
    "    print(\"Reject null hypothesis - there is a significant relationship between the variables.\")\n",
    "else:\n",
    "    print(\"Fail to reject null hypothesis - there is not a significant relationship between the variables.\")"
   ]
  },
  {
   "cell_type": "markdown",
   "metadata": {},
   "source": [
    "Suppose we want a 95% confidence level and a margin of error of E = 0.05. Based on the distribution of your data, we estimate the standard deviation of the sample to be σ = 0.26. Then, using the formula:\n",
    "\n",
    "n = (Z^2 * σ^2) / E^2\n",
    "\n",
    "where Z = 1.96, we get:\n",
    "\n",
    "n = (1.96^2 * 0.26^2) / 0.05^2\n",
    "\n",
    "n = 94.81"
   ]
  },
  {
   "cell_type": "code",
   "execution_count": null,
   "metadata": {},
   "outputs": [],
   "source": [
    "from scipy.stats import kstest, poisson\n",
    "import numpy as np\n",
    "\n",
    "# Extract the frequency count data as a 1D numpy array\n",
    "freq_counts = np.array(df['frequency count'])\n",
    "\n",
    "# Perform the Kolmogorov-Smirnov test\n",
    "D, p_value = kstest(freq_counts, poisson.cdf, args=(freq_counts.mean(),))\n",
    "\n",
    "# Print the test results\n",
    "print(\"Kolmogorov-Smirnov test:\")\n",
    "print(\"D-statistic:\", D)\n",
    "print(\"p-value:\", p_value)"
   ]
  },
  {
   "cell_type": "code",
   "execution_count": null,
   "metadata": {},
   "outputs": [],
   "source": [
    "from scipy.stats import normaltest\n",
    "\n",
    "data = df['frequency count']\n",
    "stat, pval = normaltest(data)\n",
    "\n",
    "print('p-value:', pval)\n",
    "\n",
    "if pval < 0.05:\n",
    "    print('Reject null hypothesis - the data does not follow a normal distribution')\n",
    "else:\n",
    "    print('Fail to reject null hypothesis - the data follows a normal distribution')"
   ]
  },
  {
   "cell_type": "code",
   "execution_count": null,
   "metadata": {},
   "outputs": [],
   "source": []
  },
  {
   "cell_type": "code",
   "execution_count": null,
   "metadata": {},
   "outputs": [],
   "source": [
    "import pandas as pd\n",
    "import numpy as np\n",
    "from scipy.stats import poisson\n",
    "from scipy.stats import chi2_contingency\n",
    "from scipy.stats import anderson\n",
    "from scipy.stats import normaltest\n",
    "\n",
    "# load data into pandas dataframe\n",
    "df = pd.read_csv('mydata.csv')\n",
    "\n",
    "# calculate mean and variance of the data\n",
    "mean = df['frequency count'].mean()\n",
    "variance = df['frequency count'].var()\n",
    "\n",
    "# perform chi-squared test for goodness of fit\n",
    "observed_freq = df['frequency count'].values\n",
    "expected_freq = poisson.pmf(df.index, mean) * df['total count'].sum()\n",
    "_, pval, _, _ = chi2_contingency([observed_freq, expected_freq])\n",
    "print('p-value:', pval)\n",
    "\n",
    "# check if the data follows a normal distribution\n",
    "stat, pval = normaltest(df['frequency count'])\n",
    "print('p-value:', pval)\n",
    "if pval < 0.05:\n",
    "    print('Reject null hypothesis - the data does not follow a normal distribution')\n",
    "else:\n",
    "    print('Fail to reject null hypothesis - the data follows a normal distribution')\n",
    "\n",
    "# check for Anderson-Darling test for Poisson distribution\n",
    "result = anderson(df['frequency count'], dist='poisson')\n",
    "print('Statistic: %.3f' % result.statistic)\n",
    "print('Critical Values:', result.critical_values)\n",
    "if result.statistic > result.critical_values[2]:\n",
    "    print('Reject null hypothesis - the data is not Poisson-distributed at 95% confidence level')\n",
    "else:\n",
    "    print('Fail to reject null hypothesis - the data may be Poisson-distributed at 95% confidence level')\n",
    "\n",
    "# calculate sample size for desired confidence level and margin of error\n",
    "confidence_level = 0.95\n",
    "margin_of_error = 0.05\n",
    "Z = 1.96  # Z-score for 95% confidence level\n",
    "sigma = np.sqrt(variance)  # estimated standard deviation\n",
    "n = int(np.ceil((Z ** 2 * sigma ** 2) / margin_of_error ** 2))\n",
    "print('Sample size:', n)"
   ]
  }
 ],
 "metadata": {
  "kernelspec": {
   "display_name": "Python 3",
   "language": "python",
   "name": "python3"
  },
  "language_info": {
   "codemirror_mode": {
    "name": "ipython",
    "version": 3
   },
   "file_extension": ".py",
   "mimetype": "text/x-python",
   "name": "python",
   "nbconvert_exporter": "python",
   "pygments_lexer": "ipython3",
   "version": "3.7.3"
  }
 },
 "nbformat": 4,
 "nbformat_minor": 2
}
