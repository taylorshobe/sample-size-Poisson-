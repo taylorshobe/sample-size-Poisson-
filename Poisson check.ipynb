{
 "cells": [
  {
   "cell_type": "code",
   "execution_count": null,
   "metadata": {},
   "outputs": [],
   "source": [
    "import matplotlib.pyplot as plt\n",
    "import pandas as pd\n",
    "\n",
    "# Read in the conversation topic data and frequency counts\n",
    "df = pd.read_csv('data.csv')\n",
    "\n",
    "# Create a histogram with 32 bins\n",
    "num_bins = 32\n",
    "plt.hist(df['frequency_count'], bins=num_bins)\n",
    "\n",
    "# Add labels and a title\n",
    "plt.xlabel('Frequency Count')\n",
    "plt.ylabel('Number of Topics')\n",
    "plt.title('Histogram of Frequency Counts')\n",
    "\n",
    "# Show the histogram\n",
    "plt.show()"
   ]
  },
  {
   "cell_type": "code",
   "execution_count": null,
   "metadata": {},
   "outputs": [],
   "source": [
    "import numpy as np\n",
    "import pandas as pd\n",
    "from scipy.stats import chi2_contingency\n",
    "\n",
    "# Create a contingency table from your data\n",
    "contingency_table = pd.crosstab(data[\"column1\"], data[\"column2\"])\n",
    "\n",
    "# Calculate the chi-squared statistic, p-value, and degrees of freedom\n",
    "chi2, p, dof, expected = chi2_contingency(contingency_table)\n",
    "\n",
    "# Specify the significance level\n",
    "alpha = 0.05\n",
    "\n",
    "# Determine if the p-value is less than the significance level\n",
    "if p < alpha:\n",
    "    print(\"Reject null hypothesis - there is a significant relationship between the variables.\")\n",
    "else:\n",
    "    print(\"Fail to reject null hypothesis - there is not a significant relationship between the variables.\")"
   ]
  },
  {
   "cell_type": "markdown",
   "metadata": {},
   "source": [
    "Suppose we want a 95% confidence level and a margin of error of E = 0.05. Based on the distribution of your data, we estimate the standard deviation of the sample to be σ = 0.26. Then, using the formula:\n",
    "\n",
    "n = (Z^2 * σ^2) / E^2\n",
    "\n",
    "where Z = 1.96, we get:\n",
    "\n",
    "n = (1.96^2 * 0.26^2) / 0.05^2\n",
    "\n",
    "n = 94.81"
   ]
  },
  {
   "cell_type": "code",
   "execution_count": null,
   "metadata": {},
   "outputs": [],
   "source": [
    "from scipy.stats import kstest, poisson\n",
    "import numpy as np\n",
    "\n",
    "# Extract the frequency count data as a 1D numpy array\n",
    "freq_counts = np.array(df['frequency count'])\n",
    "\n",
    "# Perform the Kolmogorov-Smirnov test\n",
    "D, p_value = kstest(freq_counts, poisson.cdf, args=(freq_counts.mean(),))\n",
    "\n",
    "# Print the test results\n",
    "print(\"Kolmogorov-Smirnov test:\")\n",
    "print(\"D-statistic:\", D)\n",
    "print(\"p-value:\", p_value)"
   ]
  },
  {
   "cell_type": "code",
   "execution_count": null,
   "metadata": {},
   "outputs": [],
   "source": [
    "from scipy.stats import normaltest\n",
    "\n",
    "data = df['frequency count']\n",
    "stat, pval = normaltest(data)\n",
    "\n",
    "print('p-value:', pval)\n",
    "\n",
    "if pval < 0.05:\n",
    "    print('Reject null hypothesis - the data does not follow a normal distribution')\n",
    "else:\n",
    "    print('Fail to reject null hypothesis - the data follows a normal distribution')"
   ]
  }
 ],
 "metadata": {
  "kernelspec": {
   "display_name": "Python 3",
   "language": "python",
   "name": "python3"
  },
  "language_info": {
   "codemirror_mode": {
    "name": "ipython",
    "version": 3
   },
   "file_extension": ".py",
   "mimetype": "text/x-python",
   "name": "python",
   "nbconvert_exporter": "python",
   "pygments_lexer": "ipython3",
   "version": "3.7.3"
  }
 },
 "nbformat": 4,
 "nbformat_minor": 2
}
