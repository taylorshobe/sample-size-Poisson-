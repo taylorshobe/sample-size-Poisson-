{
 "cells": [
  {
   "cell_type": "code",
   "execution_count": null,
   "metadata": {},
   "outputs": [],
   "source": [
    "import matplotlib.pyplot as plt\n",
    "import pandas as pd\n",
    "\n",
    "# Read in the conversation topic data and frequency counts\n",
    "df = pd.read_csv('data.csv')\n",
    "\n",
    "# Create a histogram with 32 bins\n",
    "num_bins = 32\n",
    "plt.hist(df['frequency_count'], bins=num_bins)\n",
    "\n",
    "# Add labels and a title\n",
    "plt.xlabel('Frequency Count')\n",
    "plt.ylabel('Number of Topics')\n",
    "plt.title('Histogram of Frequency Counts')\n",
    "\n",
    "# Show the histogram\n",
    "plt.show()"
   ]
  },
  {
   "cell_type": "code",
   "execution_count": null,
   "metadata": {},
   "outputs": [],
   "source": [
    "import numpy as np\n",
    "import pandas as pd\n",
    "from scipy.stats import chi2_contingency\n",
    "\n",
    "# Create a contingency table from your data\n",
    "contingency_table = pd.crosstab(data[\"column1\"], data[\"column2\"])\n",
    "\n",
    "# Calculate the chi-squared statistic, p-value, and degrees of freedom\n",
    "chi2, p, dof, expected = chi2_contingency(contingency_table)\n",
    "\n",
    "# Specify the significance level\n",
    "alpha = 0.05\n",
    "\n",
    "# Determine if the p-value is less than the significance level\n",
    "if p < alpha:\n",
    "    print(\"Reject null hypothesis - there is a significant relationship between the variables.\")\n",
    "else:\n",
    "    print(\"Fail to reject null hypothesis - there is not a significant relationship between the variables.\")"
   ]
  },
  {
   "cell_type": "markdown",
   "metadata": {},
   "source": [
    "Suppose we want a 95% confidence level and a margin of error of E = 0.05. Based on the distribution of your data, we estimate the standard deviation of the sample to be σ = 0.26. Then, using the formula:\n",
    "\n",
    "n = (Z^2 * σ^2) / E^2\n",
    "\n",
    "where Z = 1.96, we get:\n",
    "\n",
    "n = (1.96^2 * 0.26^2) / 0.05^2\n",
    "\n",
    "n = 94.81"
   ]
  },
  {
   "cell_type": "code",
   "execution_count": null,
   "metadata": {},
   "outputs": [],
   "source": [
    "from scipy.stats import anderson\n",
    "\n",
    "data = np.array(df['data_column'])\n",
    "result = anderson(data, dist='poisson')\n",
    "\n",
    "print(f'Statistic: {result.statistic}')\n",
    "for i in range(len(result.critical_values)):\n",
    "    sl, cv = result.significance_level[i], result.critical_values[i]\n",
    "    if result.statistic < cv:\n",
    "        print(f'{sl}%: Critical value {cv:.3f}, data looks Poisson distributed (fail to reject H0)')\n",
    "    else:\n",
    "        print(f'{sl}%: Critical value {cv:.3f}, data does not look Poisson distributed (reject H0)')"
   ]
  }
 ],
 "metadata": {
  "kernelspec": {
   "display_name": "Python 3",
   "language": "python",
   "name": "python3"
  },
  "language_info": {
   "codemirror_mode": {
    "name": "ipython",
    "version": 3
   },
   "file_extension": ".py",
   "mimetype": "text/x-python",
   "name": "python",
   "nbconvert_exporter": "python",
   "pygments_lexer": "ipython3",
   "version": "3.7.3"
  }
 },
 "nbformat": 4,
 "nbformat_minor": 2
}
